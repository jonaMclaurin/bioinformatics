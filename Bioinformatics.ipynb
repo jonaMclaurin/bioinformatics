{
  "nbformat": 4,
  "nbformat_minor": 0,
  "metadata": {
    "colab": {
      "name": "Bioinformatics.ipynb",
      "provenance": [],
      "collapsed_sections": [],
      "authorship_tag": "ABX9TyPb3Vx/ik+PNoqORmnp5eeV",
      "include_colab_link": true
    },
    "kernelspec": {
      "name": "python3",
      "display_name": "Python 3"
    }
  },
  "cells": [
    {
      "cell_type": "markdown",
      "metadata": {
        "id": "view-in-github",
        "colab_type": "text"
      },
      "source": [
        "<a href=\"https://colab.research.google.com/github/jonaMclaurin/bioinformatics/blob/main/Bioinformatics.ipynb\" target=\"_parent\"><img src=\"https://colab.research.google.com/assets/colab-badge.svg\" alt=\"Open In Colab\"/></a>"
      ]
    },
    {
      "cell_type": "code",
      "metadata": {
        "id": "TTFH9L6dZ-AF"
      },
      "source": [
        "# ===Helper functions classes===\n",
        "\n",
        "class MyList(list):\n",
        "  def last_index(self):\n",
        "    return len(self) - 1"
      ],
      "execution_count": null,
      "outputs": []
    },
    {
      "cell_type": "code",
      "metadata": {
        "id": "R1_pyOg8SHXp"
      },
      "source": [
        "#Validate DNA sequence\n",
        "def validate_DNA(dna_seq):\n",
        "  seqm = dna_seq.upper()\n",
        "  valid = seqm.count('A') + seqm.count('C') + seqm.count('G') + seqm.count('T')\n",
        "  if valid == len(seqm): \n",
        "    return True\n",
        "  else: \n",
        "    return False\n",
        "\n",
        "#Frequency of each symbol\n",
        "def frequency(seq):\n",
        "  dic = {}\n",
        "  for symbol in seq:\n",
        "    if symbol not in dic:\n",
        "      dic[symbol] = 1\n",
        "    else: \n",
        "      dic[symbol] += 1\n",
        "  return dic\n",
        "\n",
        "#GC content percentage\n",
        "def gc_content(dna_seq):\n",
        "  \"\"\"\n",
        "    Returns percentage of G and C nucleotides in a DNA sequence\n",
        "  \"\"\"\n",
        "  gc_count = 0\n",
        "  for s in dna_seq:\n",
        "    if s in \"GgCc\":\n",
        "      gc_count += 1\n",
        "  return gc_count/ len(dna_seq)\n",
        "\n",
        "#frequency sorted by count\n",
        "def sorted_frequency(seq):\n",
        "  freq = frequency(seq)\n",
        "  list_f = sorted(freq.items(), key=lambda x: x[1], reverse=True)\n",
        "  for (b, f) in list_f:\n",
        "    print(f'Base {b} => {f}')\n",
        "\n",
        "#gc content in a sub-sequence\n",
        "def gc_content_subseq(dna_seq, k=4):\n",
        "  res = []\n",
        "  #print(list(range(0, len(dna_seq)-k + 1, k)))\n",
        "  for i in range(0, len(dna_seq)-k + 1, k):\n",
        "    subseq = dna_seq[i:i+k]\n",
        "    gc = gc_content(subseq)\n",
        "    print(f'{subseq} => {gc * 100} % ')\n",
        "    res.append(gc)\n",
        "  return res\n",
        "\n",
        "#transcription \n",
        "def transcription(dna_seq):\n",
        "  assert validate_DNA(dna_seq), 'Invalid DNA sequence'\n",
        "  return dna_seq.upper().replace('T', 'U')\n",
        "\n",
        "#Reverse complement \n",
        "def reverse_complement(dna_seq):\n",
        "  assert validate_DNA(dna_seq), 'Invalid DNA sequence'\n",
        "  comp = ''\n",
        "  for n in dna_seq.upper():\n",
        "    if n == 'A':\n",
        "      comp = 'T' + comp\n",
        "    elif n == 'C':\n",
        "      comp = 'G' + comp\n",
        "    elif n == 'T':\n",
        "      comp = 'A' + comp\n",
        "    elif n == 'G':\n",
        "      comp = 'C' + comp\n",
        "  return comp \n",
        "\n",
        "#Translation\n",
        "\n",
        "def translate_codon (cod):\n",
        "  \"\"\"Translates a codon into an aminoacid using an internal\n",
        "      dictionary with the standard genetic code.\n",
        "  \"\"\"\n",
        "  cod = cod.upper()\n",
        "  tc = {\"GCT\":\"A\", \"GCC\":\"A\", \"GCA\":\"A\", \"GCG\":\"A\",\n",
        "  \"TGT\":\"C\", \"TGC\":\"C\",\n",
        "  \"GAT\":\"D\", \"GAC\":\"D\",\n",
        "  \"GAA\":\"E\", \"GAG\":\"E\",\n",
        "  \"TTT\":\"F\", \"TTC\":\"F\",\n",
        "  \"GGT\":\"G\", \"GGC\":\"G\", \"GGA\":\"G\", \"GGG\":\"G\",\n",
        "  \"CAT\":\"H\", \"CAC\":\"H\",\n",
        "  \"ATA\":\"I\", \"ATT\":\"I\", \"ATC\":\"I\",\n",
        "  \"AAA\":\"K\", \"AAG\":\"K\",\n",
        "  \"TTA\":\"L\", \"TTG\":\"L\", \"CTT\":\"L\", \"CTC\":\"L\", \"CTA\":\"L\", \"CTG\":\"L\",\n",
        "  \"ATG\":\"M\", \"AAT\":\"N\", \"AAC\":\"N\",\n",
        "  \"CCT\":\"P\", \"CCC\":\"P\", \"CCA\":\"P\", \"CCG\":\"P\",\n",
        "  \"CAA\":\"Q\", \"CAG\":\"Q\",\n",
        "  \"CGT\":\"R\", \"CGC\":\"R\", \"CGA\":\"R\", \"CGG\":\"R\", \"AGA\":\"R\", \"AGG\":\"R\",\n",
        "  \"TCT\":\"S\", \"TCC\":\"S\", \"TCA\":\"S\", \"TCG\":\"S\", \"AGT\":\"S\", \"AGC\":\"S\",\n",
        "  \"ACT\":\"T\", \"ACC\":\"T\", \"ACA\":\"T\", \"ACG\":\"T\",\n",
        "  \"GTT\":\"V\", \"GTC\":\"V\", \"GTA\":\"V\", \"GTG\":\"V\",\n",
        "  \"TGG\":\"W\",\n",
        "  \"TAT\":\"Y\", \"TAC\":\"Y\",\n",
        "  \"TAA\":\"_\", \"TAG\":\"_\", \"TGA\":\"_\"}\n",
        "  if cod in tc: return tc[cod]\n",
        "  else: return None\n",
        "\n",
        "#Translate sequence \n",
        "def translate_seq(dna_seq, init_pos=0):\n",
        "  assert validate_DNA(dna_seq), 'Invalid DNA sequence'\n",
        "  seq_m = dna_seq.upper()\n",
        "  seq_aa = ''\n",
        "  for pos in (range(init_pos, len(seq_m)-2, 3)):\n",
        "    cod = seq_m[pos:pos+3]\n",
        "    seq_aa += translate_codon(cod)\n",
        "  return seq_aa"
      ],
      "execution_count": null,
      "outputs": []
    },
    {
      "cell_type": "code",
      "metadata": {
        "id": "etCSsAB-dKjz"
      },
      "source": [
        "gc_content_subseq('AAAACGGGGCTTTGCCC')"
      ],
      "execution_count": null,
      "outputs": []
    },
    {
      "cell_type": "code",
      "metadata": {
        "id": "kXVCJV8-fBg2"
      },
      "source": [
        "seq = list('AAAACGGGGCTTTGCCX')\n",
        "last = list(range(0, len(seq) - 4 + 1, 4))"
      ],
      "execution_count": null,
      "outputs": []
    },
    {
      "cell_type": "code",
      "metadata": {
        "id": "phC0tXx6lD3Q"
      },
      "source": [
        "translate_seq('aaacccgggcga')"
      ],
      "execution_count": null,
      "outputs": []
    },
    {
      "cell_type": "code",
      "metadata": {
        "id": "a6vmIQqSf7yR"
      },
      "source": [
        "#DEEP CHEM\n",
        "!pip install --pre deepchem"
      ],
      "execution_count": null,
      "outputs": []
    },
    {
      "cell_type": "code",
      "metadata": {
        "id": "8sHXDim6f97a"
      },
      "source": [
        "import deepchem as dc\n",
        "import numpy as np"
      ],
      "execution_count": null,
      "outputs": []
    },
    {
      "cell_type": "code",
      "metadata": {
        "id": "ctnaFvZIgEm3"
      },
      "source": [
        "x = np.random.random((4,5))\n",
        "y = np.random.random((4,1))"
      ],
      "execution_count": null,
      "outputs": []
    },
    {
      "cell_type": "code",
      "metadata": {
        "id": "hkV7v3ARgt1j"
      },
      "source": [
        "dataset = dc.data.NumpyDataset(x, y)"
      ],
      "execution_count": null,
      "outputs": []
    },
    {
      "cell_type": "code",
      "metadata": {
        "id": "ID0Dj9OBg1BS"
      },
      "source": [
        "print(dataset.X)"
      ],
      "execution_count": null,
      "outputs": []
    },
    {
      "cell_type": "code",
      "metadata": {
        "id": "Xnkco5yy4hiN"
      },
      "source": [
        "import string \n",
        "\n",
        "characters = string.printable"
      ],
      "execution_count": null,
      "outputs": []
    },
    {
      "cell_type": "code",
      "metadata": {
        "id": "mi2ACeYd8pHL"
      },
      "source": [
        "token_index = dict(zip(range(1, len(characters) + 1), characters))"
      ],
      "execution_count": null,
      "outputs": []
    },
    {
      "cell_type": "code",
      "metadata": {
        "id": "5-dhW5c39Gb6"
      },
      "source": [
        "import numpy as np\n",
        "import re"
      ],
      "execution_count": null,
      "outputs": []
    },
    {
      "cell_type": "code",
      "metadata": {
        "id": "Q-sQEf03kg42"
      },
      "source": [
        "seq = list('AGAAG')\n",
        "pattern = list('AGAA')"
      ],
      "execution_count": null,
      "outputs": []
    },
    {
      "cell_type": "code",
      "metadata": {
        "id": "77nWyNUPlbDI"
      },
      "source": [
        "def overlap(s1, s2):\n",
        "  maxov = min(len(s1), len(s2))\n",
        "  for i in range(maxov, 0, -1):\n",
        "    if s1[-i:] == s2[:i]:\n",
        "      return i\n",
        "  return 0"
      ],
      "execution_count": null,
      "outputs": []
    },
    {
      "cell_type": "code",
      "metadata": {
        "id": "hklRJh4anXJO"
      },
      "source": [
        "import pandas as pd"
      ],
      "execution_count": null,
      "outputs": []
    }
  ]
}